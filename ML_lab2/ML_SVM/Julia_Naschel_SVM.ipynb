{
 "cells": [
  {
   "cell_type": "markdown",
   "metadata": {},
   "source": [
    "## $SVM$\n",
    "\n",
    "Цель алгоритма $SVM$(Supported Vector Machine) состоит в том, чтобы найти гиперплоскость в $N-мерном$ пространстве, которая четко классифицирует точки данных. \n",
    "Опорные векторы - это точки данных, которые находятся ближе к гиперплоскости и влияют на положение и ориентацию гиперплоскости. В $SVM$ берем выходные данные линейной функции, и если этот результат больше 1, определяем это с одним классом, и если результат равен -1, то идентифицируем это с другим классом. \n",
    "\n",
    "В алгоритме $SVM$ стремимся максимизировать разницу между точками данных и гиперплоскостью. Функция потерь, которая помогает максимизировать маржу - это *hinge loss*.\n",
    "\n",
    "**Обновление градиента** \n",
    "\n",
    "Когда есть функция потерь, берем частные производные по весам, чтобы найти градиенты. Используя градиенты, мы можем обновить веса."
   ]
  },
  {
   "cell_type": "code",
   "execution_count": 2,
   "metadata": {},
   "outputs": [],
   "source": [
    "import pandas as pd \n",
    "import numpy as np\n",
    "df = pd.read_csv('breast.csv')\n",
    "y = df['diagnosis']\n",
    "y = y.to_numpy()\n",
    "y = [int(x) for x in y]\n",
    "y = np.reshape(y, (569,1))\n",
    "for i in y:\n",
    "    if i[0] == 0:\n",
    "        i[0] = -1\n",
    "        \n",
    "y\n",
    "df = df.drop(df.columns[[-1]], axis=1)\n",
    "X = df.to_numpy()\n",
    "X\n",
    "x_train = X[:450]\n",
    "x_test = X[450:]\n",
    "y_train = y[:450]\n",
    "y_test = y[450:]\n"
   ]
  },
  {
   "cell_type": "code",
   "execution_count": 3,
   "metadata": {},
   "outputs": [],
   "source": [
    "import numpy as np\n",
    "\n",
    "train_f1 = x_train[:,0]\n",
    "train_f2 = x_train[:,1]\n",
    "\n",
    "train_f1 = train_f1.reshape(450,1)\n",
    "train_f2 = train_f2.reshape(450,1)\n",
    "\n",
    "w1 = np.zeros((450,1))\n",
    "w2 = np.zeros((450,1))\n",
    "\n",
    "epochs = 1\n",
    "alpha = 0.0001 #скорость обучения\n",
    "\n",
    "while(epochs < 10000):\n",
    "    y = w1 * train_f1 + w2 * train_f2\n",
    "    prod = y * y_train\n",
    "    \n",
    "    #print(epochs)\n",
    "    count = 0\n",
    "    for val in prod:\n",
    "        if(val >= 1):\n",
    "            cost = 0\n",
    "            w1 = w1 - alpha * (2 * 1/epochs * w1)\n",
    "            w2 = w2 - alpha * (2 * 1/epochs * w2)\n",
    "            \n",
    "        else:\n",
    "            cost = 1 - val \n",
    "            w1 = w1 + alpha * (train_f1[count] * y_train[count] - 2 * 1/epochs * w1)\n",
    "            w2 = w2 + alpha * (train_f2[count] * y_train[count] - 2 * 1/epochs * w2)\n",
    "        count += 1\n",
    "    epochs += 1"
   ]
  },
  {
   "cell_type": "code",
   "execution_count": 4,
   "metadata": {},
   "outputs": [
    {
     "name": "stdout",
     "output_type": "stream",
     "text": [
      "0.7478991596638656\n"
     ]
    }
   ],
   "source": [
    "#Извлекаем характеристики из тестовых данных и прогнозируем значения.\n",
    "#Получаем прогнозы и сравниваем их с фактическими значениями и печатаем точность нашей модели.\n",
    "import numpy as np\n",
    "from sklearn.metrics import accuracy_score\n",
    "index = list(range(119,450))\n",
    "w1 = np.delete(w1,index)\n",
    "w2 = np.delete(w2,index)\n",
    "w1 = w1.reshape(119,1)\n",
    "w2 = w2.reshape(119,1)\n",
    "#Извлекаем тестовые данные\n",
    "test_f1 = x_test[:,0]\n",
    "test_f2 = x_test[:,1]\n",
    "\n",
    "test_f1 = test_f1.reshape(119,1)\n",
    "test_f2 = test_f2.reshape(119,1)\n",
    "#Predict\n",
    "y_pred = w1 * test_f1 + w2 * test_f2\n",
    "predictions = []\n",
    "for val in y_pred:\n",
    "    if(val > 1):\n",
    "        predictions.append(1)\n",
    "    else:\n",
    "        predictions.append(-1)\n",
    "\n",
    "print(accuracy_score(y_test,predictions))"
   ]
  },
  {
   "cell_type": "markdown",
   "metadata": {},
   "source": [
    "### $ИТОГ$\n",
    "Точность написанного $SVM$ на **~15%** хуже, чем в sklearn."
   ]
  },
  {
   "cell_type": "code",
   "execution_count": 5,
   "metadata": {},
   "outputs": [
    {
     "name": "stderr",
     "output_type": "stream",
     "text": [
      "/Users/caesar_julia/opt/anaconda3/lib/python3.7/site-packages/sklearn/utils/validation.py:724: DataConversionWarning: A column-vector y was passed when a 1d array was expected. Please change the shape of y to (n_samples, ), for example using ravel().\n",
      "  y = column_or_1d(y, warn=True)\n"
     ]
    },
    {
     "name": "stdout",
     "output_type": "stream",
     "text": [
      "0.8991596638655462\n"
     ]
    }
   ],
   "source": [
    "from sklearn.svm import SVC #классификатор\n",
    "from sklearn.metrics import accuracy_score\n",
    "\n",
    "clf = SVC(kernel='linear')\n",
    "clf.fit(x_train,y_train)\n",
    "y_pred = clf.predict(x_test)\n",
    "print(accuracy_score(y_test,y_pred))"
   ]
  },
  {
   "cell_type": "code",
   "execution_count": null,
   "metadata": {},
   "outputs": [],
   "source": []
  }
 ],
 "metadata": {
  "kernelspec": {
   "display_name": "Python 3",
   "language": "python",
   "name": "python3"
  },
  "language_info": {
   "codemirror_mode": {
    "name": "ipython",
    "version": 3
   },
   "file_extension": ".py",
   "mimetype": "text/x-python",
   "name": "python",
   "nbconvert_exporter": "python",
   "pygments_lexer": "ipython3",
   "version": "3.7.4"
  }
 },
 "nbformat": 4,
 "nbformat_minor": 4
}
