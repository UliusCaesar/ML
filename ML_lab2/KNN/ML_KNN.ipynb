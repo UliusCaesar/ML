{
 "cells": [
  {
   "cell_type": "markdown",
   "metadata": {},
   "source": [
    "# $KNN$\n",
    "Алгоритм $K$-ближайших соседей ($KNN$) – это тип управляемого алгоритма *ML*, который может использоваться как для классификации, так и для задач прогнозирования регрессии. Тем не менее, он в основном используется для классификации прогнозирующих проблем в промышленности.\n",
    "\n",
    "**Алгоритм**\n",
    "\n",
    "Для классификации каждого из объектов тестовой выборки необходимо последовательно выполнить следующие операции:\n",
    "- Вычислить расстояние до каждого из объектов обучающей выборки\n",
    "- Отобрать $k$ объектов обучающей выборки, расстояние до которых минимально\n",
    "- Класс классифицируемого объекта — это класс, наиболее часто встречающийся среди $k$ ближайших соседей"
   ]
  },
  {
   "cell_type": "code",
   "execution_count": 1,
   "metadata": {},
   "outputs": [],
   "source": [
    "import pandas as pd\n",
    "df = pd.read_csv('breast.csv', header = 0)"
   ]
  },
  {
   "cell_type": "code",
   "execution_count": 2,
   "metadata": {},
   "outputs": [],
   "source": [
    "import numpy as np\n",
    "\n",
    "# Point - это класс, представляющий точку в декартовой плоскости.\n",
    "class Point:\n",
    "\n",
    "    def __init__(self, axis):\n",
    "        self.axis = np.array(axis)\n",
    "              \n",
    "#евклидово расстояние между 2 точками\n",
    "    def distance(self, other):\n",
    "        if not isinstance(other, Point):\n",
    "            other = Point(other)\n",
    "        return sum((self - other) ** 2) ** 0.5\n",
    " \n",
    "    def __add__(self, other):\n",
    "        if isinstance(other, Point):\n",
    "            return Point(self.axis + other.axis)\n",
    "        return Point(self.axis + np.array(other))\n",
    "\n",
    "    def __sub__(self, other):\n",
    "        if isinstance(other, Point):\n",
    "            return Point(self.axis - other.axis)\n",
    "        return Point(self.axis - np.array(other))\n",
    "\n",
    "    def __pow__(self, power, modulo=None):\n",
    "        if modulo:\n",
    "            return self.axis ** power % modulo\n",
    "        return self.axis ** power\n",
    "\n"
   ]
  },
  {
   "cell_type": "code",
   "execution_count": 3,
   "metadata": {},
   "outputs": [],
   "source": [
    "from operator import itemgetter\n",
    "\n",
    "class KNearestNeighbors:\n",
    "#KNearestNeighbors конструктор\n",
    "    def __init__(self, k=5):\n",
    "        self.k = int(k)\n",
    "        self._fit_data = []\n",
    "\n",
    "    def fit(self, x, y):\n",
    "        assert len(x) == len(y)\n",
    "        self._fit_data = [(Point(coordinates), label) for coordinates, label in zip(x, y)]\n",
    "#предсказываем выходной класс\n",
    "    def predict(self, x):\n",
    "        predicts = []\n",
    "        for coordinates in x:\n",
    "            predict_point = Point(coordinates)\n",
    "            # евклидово расстояние от точки predict_point до всех в self._fit_data\n",
    "            distances = []\n",
    "            for data_point, data_label in self._fit_data:\n",
    "                distances.append((predict_point.distance(data_point), data_label))\n",
    "            # k точка с меньшими расстояниями\n",
    "            distances = sorted(distances, key=itemgetter(0))[:self.k]\n",
    "            predicts.append(max(distances, key=itemgetter(1))[1])\n",
    "\n",
    "        return predicts"
   ]
  },
  {
   "cell_type": "code",
   "execution_count": 4,
   "metadata": {},
   "outputs": [],
   "source": [
    "a = KNearestNeighbors()\n",
    "a.fit(df.iloc[:450, :-1].to_numpy(), df.iloc[:450, -1].to_numpy())\n"
   ]
  },
  {
   "cell_type": "code",
   "execution_count": 5,
   "metadata": {},
   "outputs": [
    {
     "name": "stdout",
     "output_type": "stream",
     "text": [
      "Accuracy: 0.907563025210084\n"
     ]
    }
   ],
   "source": [
    "preds = a.predict(df.iloc[450:, :-1].to_numpy())\n",
    "print('Accuracy:', (sum(preds == df.iloc[450:, -1].to_numpy()) / len(preds)))"
   ]
  },
  {
   "cell_type": "markdown",
   "metadata": {},
   "source": [
    "Для того, чтобы сравнить мой алгоритм KNN со встроенным. Воспользуемся 'from sklearn.neighbors import KNeighborsClassifier'"
   ]
  },
  {
   "cell_type": "code",
   "execution_count": 6,
   "metadata": {
    "scrolled": true
   },
   "outputs": [
    {
     "name": "stdout",
     "output_type": "stream",
     "text": [
      "Accuracy: 0.8991596638655462\n"
     ]
    },
    {
     "name": "stderr",
     "output_type": "stream",
     "text": [
      "/Users/caesar_julia/opt/anaconda3/lib/python3.7/site-packages/ipykernel_launcher.py:2: DataConversionWarning: A column-vector y was passed when a 1d array was expected. Please change the shape of y to (n_samples, ), for example using ravel().\n",
      "  \n"
     ]
    }
   ],
   "source": [
    "from sklearn.neighbors import KNeighborsClassifier\n",
    "test = KNeighborsClassifier(n_neighbors = 5).fit(df.iloc[:450, :-1], df.iloc[:450, -1:])\n",
    "print('Accuracy:',(test.score(df.iloc[450:, :-1], df.iloc[450:, -1:])))"
   ]
  },
  {
   "cell_type": "code",
   "execution_count": null,
   "metadata": {},
   "outputs": [],
   "source": []
  }
 ],
 "metadata": {
  "kernelspec": {
   "display_name": "Python 3",
   "language": "python",
   "name": "python3"
  },
  "language_info": {
   "codemirror_mode": {
    "name": "ipython",
    "version": 3
   },
   "file_extension": ".py",
   "mimetype": "text/x-python",
   "name": "python",
   "nbconvert_exporter": "python",
   "pygments_lexer": "ipython3",
   "version": "3.7.4"
  }
 },
 "nbformat": 4,
 "nbformat_minor": 2
}
